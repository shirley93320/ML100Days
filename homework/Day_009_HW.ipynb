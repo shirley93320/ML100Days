{
 "cells": [
  {
   "cell_type": "markdown",
   "metadata": {
    "colab_type": "text",
    "id": "P6xk2_jLsvFF"
   },
   "source": [
    "# [作業目標]\n",
    "\n",
    "1. 請建立類似提供結果的 DataFrame：\n",
    "\n",
    "```\n",
    "#    Apples  Bananas\n",
    "# 0      30       21\n",
    "\n",
    "#             Apples  Bananas\n",
    "# 2017 Sales      35       21\n",
    "# 2018 Sales      41       34\n",
    "\n",
    "```\n",
    "\n",
    "2. 請問如果現在有一個 DataFrame 如下，請問資料在 Python 中可能長怎樣？\n",
    "\n",
    "```\n",
    "#      city  visitor weekday\n",
    "# 0  Austin      139     Sun\n",
    "# 1  Dallas      237     Sun\n",
    "# 2  Austin      326     Mon\n",
    "# 3  Dallas      456     Mon\n",
    "```\n",
    "\n",
    "3. 假設你想知道每個 weekday 的平均 visitor 數量，可以怎麼做？\n"
   ]
  },
  {
   "cell_type": "markdown",
   "metadata": {
    "colab_type": "text",
    "id": "uXGll28asvFS"
   },
   "source": [
    "# 作業 "
   ]
  },
  {
   "cell_type": "markdown",
   "metadata": {},
   "source": [
    "### 1. 請建立類似提供結果的 DataFrame：\n",
    "\n",
    "```\n",
    "#    Apples  Bananas\n",
    "# 0      30       21\n",
    "\n",
    "#             Apples  Bananas\n",
    "# 2017 Sales      35       21\n",
    "# 2018 Sales      41       34\n",
    "\n",
    "```\n",
    "\n"
   ]
  },
  {
   "cell_type": "code",
   "execution_count": 1,
   "metadata": {},
   "outputs": [],
   "source": [
    "# 記得先 Import 正確的套件\n",
    "import pandas as pd\n"
   ]
  },
  {
   "cell_type": "code",
   "execution_count": 2,
   "metadata": {
    "colab": {},
    "colab_type": "code",
    "id": "5QrYoyNWsvFS"
   },
   "outputs": [
    {
     "name": "stdout",
     "output_type": "stream",
     "text": [
      "   Apples  Bananas\n",
      "0      30       21\n",
      "----------\n",
      "            Apples  Bananas\n",
      "2017 Sales      35       21\n",
      "2018 Sales      41       34\n"
     ]
    }
   ],
   "source": [
    "df1=pd.DataFrame([[30,21]],columns=['Apples','Bananas'])\n",
    "print(df1)\n",
    "print('----------')\n",
    "df2=pd.DataFrame({'Apples':[35,41],'Bananas':[21,34]},index=['2017 Sales','2018 Sales'])\n",
    "print(df2)"
   ]
  },
  {
   "cell_type": "markdown",
   "metadata": {},
   "source": [
    "### 2. 請問如果現在有一個 DataFrame 如下，請問資料在 Python 中可能長怎樣？\n",
    "\n",
    "```\n",
    "#      city  visitor weekday\n",
    "# 0  Austin      139     Sun\n",
    "# 1  Dallas      237     Sun\n",
    "# 2  Austin      326     Mon\n",
    "# 3  Dallas      456     Mon\n",
    "```\n",
    "\n"
   ]
  },
  {
   "cell_type": "code",
   "execution_count": 3,
   "metadata": {
    "colab": {},
    "colab_type": "code",
    "id": "e1gVI0tvsvFY"
   },
   "outputs": [
    {
     "name": "stdout",
     "output_type": "stream",
     "text": [
      "     city  visitor weekday\n",
      "0  Austin      139     Sun\n",
      "1  Dallas      237     Sun\n",
      "2  Austin      326     Mon\n",
      "3  Dallas      456     Mon\n"
     ]
    },
    {
     "data": {
      "text/html": [
       "<div>\n",
       "<style scoped>\n",
       "    .dataframe tbody tr th:only-of-type {\n",
       "        vertical-align: middle;\n",
       "    }\n",
       "\n",
       "    .dataframe tbody tr th {\n",
       "        vertical-align: top;\n",
       "    }\n",
       "\n",
       "    .dataframe thead th {\n",
       "        text-align: right;\n",
       "    }\n",
       "</style>\n",
       "<table border=\"1\" class=\"dataframe\">\n",
       "  <thead>\n",
       "    <tr style=\"text-align: right;\">\n",
       "      <th></th>\n",
       "      <th>city</th>\n",
       "      <th>visitor</th>\n",
       "      <th>weekday</th>\n",
       "    </tr>\n",
       "  </thead>\n",
       "  <tbody>\n",
       "    <tr>\n",
       "      <th>0</th>\n",
       "      <td>Austin</td>\n",
       "      <td>139</td>\n",
       "      <td>Sun</td>\n",
       "    </tr>\n",
       "    <tr>\n",
       "      <th>1</th>\n",
       "      <td>Dallas</td>\n",
       "      <td>237</td>\n",
       "      <td>Sun</td>\n",
       "    </tr>\n",
       "    <tr>\n",
       "      <th>2</th>\n",
       "      <td>Austin</td>\n",
       "      <td>326</td>\n",
       "      <td>Mon</td>\n",
       "    </tr>\n",
       "    <tr>\n",
       "      <th>3</th>\n",
       "      <td>Dallas</td>\n",
       "      <td>456</td>\n",
       "      <td>Mon</td>\n",
       "    </tr>\n",
       "  </tbody>\n",
       "</table>\n",
       "</div>"
      ],
      "text/plain": [
       "     city  visitor weekday\n",
       "0  Austin      139     Sun\n",
       "1  Dallas      237     Sun\n",
       "2  Austin      326     Mon\n",
       "3  Dallas      456     Mon"
      ]
     },
     "execution_count": 3,
     "metadata": {},
     "output_type": "execute_result"
    }
   ],
   "source": [
    "city=['Austin','Dallas','Austin','Dallas']\n",
    "visitor=[139,237,326,456]\n",
    "weekday=['Sun','Sun','Mon','Mon']\n",
    "#city=['Austin','Dallas','Dallas','Austin','Dallas']\n",
    "#visitor=[139,237,237,326,456]\n",
    "#weekday=['Sun','Sun','Sun','Mon','Mon']\n",
    "dict={'city':city,'visitor':visitor,'weekday':weekday}\n",
    "df=pd.DataFrame(dict)\n",
    "print(df)\n",
    "df"
   ]
  },
  {
   "cell_type": "markdown",
   "metadata": {},
   "source": [
    "### 3. 承上題，假設你想知道每個 weekday 的平均 visitor 數量，可以怎麼做？\n"
   ]
  },
  {
   "cell_type": "code",
   "execution_count": 9,
   "metadata": {},
   "outputs": [
    {
     "name": "stdout",
     "output_type": "stream",
     "text": [
      "  weekday  visitor\n",
      "0     Sun      139\n",
      "1     Sun      237\n",
      "2     Mon      326\n",
      "3     Mon      456\n",
      "{'Mon': [2, 3], 'Sun': [0, 1]}\n",
      "         visitor\n",
      "weekday         \n",
      "Mon          391\n",
      "Sun          188\n",
      "----------\n",
      "Index(['Mon', 'Sun'], dtype='object', name='weekday')\n",
      "----------\n",
      "Mon 391\n",
      "Sun 188\n"
     ]
    }
   ],
   "source": [
    "df3=df.loc[:,['weekday','visitor']]\n",
    "print(df3)\n",
    "df3_gp=df3.groupby('weekday')\n",
    "\n",
    "print(df3_gp.groups)\n",
    "df3_gp_mean=df3_gp.mean()\n",
    "print(df3_gp_mean)\n",
    "print('----------')\n",
    "df3_gp_mean_index = df3_gp_mean.index\n",
    "print(df3_gp_mean_index)\n",
    "print('----------')\n",
    "for i in range(len(df3_gp_mean_index)):\n",
    "  print(df3_gp_mean.index[i],df3_gp_mean.iloc[i,0])\n"
   ]
  },
  {
   "cell_type": "code",
   "execution_count": 5,
   "metadata": {},
   "outputs": [
    {
     "name": "stdout",
     "output_type": "stream",
     "text": [
      "<class 'pandas.core.groupby.generic.DataFrameGroupBy'>\n",
      "--groups--\n",
      "{'Mon': [2, 3], 'Sun': [0, 1]}\n",
      "--size--\n",
      "weekday\n",
      "Mon    2\n",
      "Sun    2\n",
      "dtype: int64\n",
      "--get_group--\n",
      "     city  visitor weekday\n",
      "0  Austin      139     Sun\n",
      "1  Dallas      237     Sun\n",
      "--sum--\n",
      "         visitor\n",
      "weekday         \n",
      "Mon          782\n",
      "Sun          376\n",
      "                visitor\n",
      "weekday city           \n",
      "Mon     Austin      326\n",
      "        Dallas      456\n",
      "Sun     Austin      139\n",
      "        Dallas      237\n",
      "--count--\n",
      "         city  visitor\n",
      "weekday               \n",
      "Mon         2        2\n",
      "Sun         2        2\n",
      "--max--\n",
      "           city  visitor\n",
      "weekday                 \n",
      "Mon      Dallas      456\n",
      "Sun      Dallas      237\n",
      "--min--\n",
      "           city  visitor\n",
      "weekday                 \n",
      "Mon      Austin      326\n",
      "Sun      Austin      139\n",
      "--mean 平均數--\n",
      "         visitor\n",
      "weekday         \n",
      "Mon          391\n",
      "Sun          188\n",
      "--median 中位數--\n",
      "         visitor\n",
      "weekday         \n",
      "Mon          391\n",
      "Sun          188\n",
      "--mode 眾數--\n",
      "0    139\n",
      "1    237\n",
      "dtype: int64\n",
      "139\n"
     ]
    }
   ],
   "source": [
    "df_groupby = df.groupby('weekday')\n",
    "df_groupby2 = df.groupby(['weekday','city'])\n",
    "print(type(df_groupby))\n",
    "print('--groups--')\n",
    "print(df_groupby.groups)\n",
    "print('--size--')\n",
    "print(df_groupby.size())\n",
    "print('--get_group--')\n",
    "print(df_groupby.get_group(\"Sun\"))\n",
    "print('--sum--')\n",
    "print(df_groupby.sum())\n",
    "print(df_groupby2.sum())\n",
    "print('--count--')\n",
    "print(df_groupby.count())\n",
    "print('--max--')\n",
    "print(df_groupby.max())\n",
    "print('--min--')\n",
    "print(df_groupby.min())\n",
    "print('--mean 平均數--')\n",
    "print(df_groupby.mean())\n",
    "print('--median 中位數--')\n",
    "print(df_groupby.median())\n",
    "print('--mode 眾數--')\n",
    "print(pd.Series(df_groupby.get_group(\"Sun\").visitor).mode()) #列出全部眾數\n",
    "print(pd.Series(df_groupby.get_group(\"Sun\").visitor).mode()[0]) #取第1個眾數"
   ]
  },
  {
   "cell_type": "code",
   "execution_count": null,
   "metadata": {},
   "outputs": [],
   "source": []
  }
 ],
 "metadata": {
  "colab": {
   "name": "Day_023_HW.ipynb",
   "provenance": []
  },
  "kernelspec": {
   "display_name": "Python 3",
   "language": "python",
   "name": "python3"
  },
  "language_info": {
   "codemirror_mode": {
    "name": "ipython",
    "version": 3
   },
   "file_extension": ".py",
   "mimetype": "text/x-python",
   "name": "python",
   "nbconvert_exporter": "python",
   "pygments_lexer": "ipython3",
   "version": "3.7.7"
  }
 },
 "nbformat": 4,
 "nbformat_minor": 1
}
