{
 "cells": [
  {
   "cell_type": "markdown",
   "metadata": {
    "id": "oef8c2jr-PZY"
   },
   "source": [
    "作業目標<br>\n",
    "計算有缺失值的資料，統計量實作<br>\n",
    "作業重點<br>\n",
    "當遇到缺失值有函式可以處理，不須額外寫程式刪除<br>\n",
    "計算統計量時不能出現缺失值"
   ]
  },
  {
   "cell_type": "markdown",
   "metadata": {
    "id": "4YgL8NF4-Ru3"
   },
   "source": [
    "題目:<br>\n",
    "english_score = np.array([55,89,76,65,48,70])<br>\n",
    "math_score = np.array([60,85,60,68,np.nan,60])<br>\n",
    "chinese_score = np.array([65,90,82,72,66,77])<br>\n",
    "上3列共六位同學的英文、數學、國文成績，第一個元素代表第一位同學，舉例第一位同學英文55分、數學60分、國文65分，今天第五位同學因某原因沒來考試，導致數學成績缺值，運用上列數據回答下列問題。<br>\n",
    "1. 請計算各科成績平均、最大值、最小值、標準差，其中數學缺一筆資料可忽略?\n",
    "2. 第五位同學補考數學後成績為55，請計算補考後數學成績平均、最大值、最小值、標準差?\n",
    "3. 用補考後資料找出與國文成績相關係數最高的學科?"
   ]
  },
  {
   "cell_type": "code",
   "execution_count": 23,
   "metadata": {
    "executionInfo": {
     "elapsed": 617,
     "status": "ok",
     "timestamp": 1609854566856,
     "user": {
      "displayName": "献竤黃",
      "photoUrl": "",
      "userId": "07529243043474362942"
     },
     "user_tz": -480
    },
    "id": "QwsKU8qO-RK7"
   },
   "outputs": [],
   "source": [
    "import numpy as np"
   ]
  },
  {
   "cell_type": "code",
   "execution_count": 2,
   "metadata": {
    "executionInfo": {
     "elapsed": 1016,
     "status": "ok",
     "timestamp": 1609854567261,
     "user": {
      "displayName": "献竤黃",
      "photoUrl": "",
      "userId": "07529243043474362942"
     },
     "user_tz": -480
    },
    "id": "B5BqDQAe_czh"
   },
   "outputs": [],
   "source": [
    "english_score = np.array([55,89,76,65,48,70])\n",
    "math_score = np.array([60,85,60,68,np.nan,60])\n",
    "chinese_score = np.array([65,90,82,72,66,77])"
   ]
  },
  {
   "cell_type": "code",
   "execution_count": 26,
   "metadata": {
    "executionInfo": {
     "elapsed": 1005,
     "status": "ok",
     "timestamp": 1609854567262,
     "user": {
      "displayName": "献竤黃",
      "photoUrl": "",
      "userId": "07529243043474362942"
     },
     "user_tz": -480
    },
    "id": "K3tUA6u9aI3N"
   },
   "outputs": [
    {
     "name": "stdout",
     "output_type": "stream",
     "text": [
      "--- 忽略數學 ------\n",
      "英文成績平均= 67.16666666666667\n",
      "數學成績平均= 66.6\n",
      "中文成績平均= 75.33333333333333\n",
      "------------------\n",
      "英文成績最大值= 89\n",
      "數學成績最大值= 85.0\n",
      "中文成績最大值= 90\n",
      "------------------\n",
      "英文成績最小值= 48\n",
      "數學成績最小值= 60.0\n",
      "中文成績最小值= 65\n",
      "------------------\n",
      "英文成績標準差= 13.433995020924426\n",
      "數學成績標準差= 9.707728879609279\n",
      "中文成績標準差= 8.825468196582484\n",
      "------------------\n"
     ]
    }
   ],
   "source": [
    "#1. 請計算各科成績平均、最大值、最小值、標準差，其中數學缺一筆資料可忽略?\n",
    "print(\"--- 忽略數學 ------\")\n",
    "#各科成績平均\n",
    "print(\"英文成績平均=\",english_score.mean())\n",
    "#print(\"數學成績平均=\",np.delete(math_score,np.where(np.isnan(math_score)),axis=0).mean())\n",
    "print(\"數學成績平均=\",np.nanmean(math_score))\n",
    "print(\"中文成績平均=\",chinese_score.mean())\n",
    "print(\"------------------\")\n",
    "\n",
    "#各科成績最大值\n",
    "print(\"英文成績最大值=\",english_score.max())\n",
    "print(\"數學成績最大值=\",np.nanmax(math_score))\n",
    "print(\"中文成績最大值=\",chinese_score.max())\n",
    "print(\"------------------\")\n",
    "\n",
    "#各科成績最小值\n",
    "print(\"英文成績最小值=\",english_score.min())\n",
    "print(\"數學成績最小值=\",np.nanmin(math_score))\n",
    "print(\"中文成績最小值=\",chinese_score.min())\n",
    "print(\"------------------\")\n",
    "\n",
    "#各科成績標準差\n",
    "print(\"英文成績標準差=\",english_score.std())\n",
    "print(\"數學成績標準差=\",np.nanstd(math_score))\n",
    "print(\"中文成績標準差=\",chinese_score.std())\n",
    "print(\"------------------\")\n",
    "\n"
   ]
  },
  {
   "cell_type": "code",
   "execution_count": 30,
   "metadata": {
    "executionInfo": {
     "elapsed": 996,
     "status": "ok",
     "timestamp": 1609854567262,
     "user": {
      "displayName": "献竤黃",
      "photoUrl": "",
      "userId": "07529243043474362942"
     },
     "user_tz": -480
    },
    "id": "mXjDzvSrbLlf"
   },
   "outputs": [
    {
     "name": "stdout",
     "output_type": "stream",
     "text": [
      "[60. 85. 60. 68. 55. 60.]\n",
      "數學成績平均= 64.66666666666667\n",
      "數學成績最大值= 85.0\n",
      "數學成績最小值= 55.0\n",
      "數學成績標準差= 9.860132971832694\n"
     ]
    }
   ],
   "source": [
    "#2. 第五位同學補考數學後成績為55，請計算補考後數學成績平均、最大值、最小值、標準差?\n",
    "math_score2 = math_score\n",
    "math_score2[np.where(np.isnan(math_score2))]=55\n",
    "print(math_score2)\n",
    "print(\"數學成績平均=\",np.nanmean(math_score2))\n",
    "print(\"數學成績最大值=\",np.nanmax(math_score2))\n",
    "print(\"數學成績最小值=\",np.nanmin(math_score2))\n",
    "print(\"數學成績標準差=\",np.nanstd(math_score2))\n",
    "\n"
   ]
  },
  {
   "cell_type": "code",
   "execution_count": 39,
   "metadata": {
    "executionInfo": {
     "elapsed": 989,
     "status": "ok",
     "timestamp": 1609854567264,
     "user": {
      "displayName": "献竤黃",
      "photoUrl": "",
      "userId": "07529243043474362942"
     },
     "user_tz": -480
    },
    "id": "SaGolKx0cKoU"
   },
   "outputs": [
    {
     "name": "stdout",
     "output_type": "stream",
     "text": [
      "英文與國文的共變異數= [[216.56666667 139.13333333]\n",
      " [139.13333333  93.46666667]]\n",
      "英文與國文的相關係數= [[1.         0.97792828]\n",
      " [0.97792828 1.        ]]\n",
      "數學與國文的共變異數= [[116.66666667  77.33333333]\n",
      " [ 77.33333333  93.46666667]]\n",
      "數學與國文的相關係數= [[1.         0.74056803]\n",
      " [0.74056803 1.        ]]\n",
      "------------------\n",
      "補考後與國文成績相關係數最高的學科是英文\n"
     ]
    }
   ],
   "source": [
    "#3. 用補考後資料找出與國文成績相關係數最高的學科?\n",
    "# 相關係數 = 共變異數/標準差\n",
    "\n",
    "engVsChinese = np.corrcoef(english_score,chinese_score)\n",
    "print(\"英文與國文的共變異數=\",np.cov(english_score,chinese_score))\n",
    "print(\"英文與國文的相關係數=\",engVsChinese)\n",
    "mathVsChinese = np.corrcoef(math_score2,chinese_score)\n",
    "print(\"數學與國文的共變異數=\",np.cov(math_score2,chinese_score))\n",
    "print(\"數學與國文的相關係數=\",mathVsChinese)\n",
    "print(\"------------------\")\n",
    "if (engVsChinese[0,1] > mathVsChinese[0,1]):\n",
    "    print(\"補考後與國文成績相關係數最高的學科是英文\")\n",
    "elif (engVsChinese[0,1] < mathVsChinese[0,1]):\n",
    "    print(\"補考後與國文成績相關係數最高的學科是數學\")\n",
    "else:\n",
    "    print(\"補考後與國文成績相關係數,數學及英文是相同的\")\n"
   ]
  },
  {
   "cell_type": "code",
   "execution_count": 5,
   "metadata": {
    "executionInfo": {
     "elapsed": 987,
     "status": "ok",
     "timestamp": 1609854567264,
     "user": {
      "displayName": "献竤黃",
      "photoUrl": "",
      "userId": "07529243043474362942"
     },
     "user_tz": -480
    },
    "id": "fTNlLZ9Pzyiy"
   },
   "outputs": [],
   "source": []
  }
 ],
 "metadata": {
  "colab": {
   "authorship_tag": "ABX9TyPtywwDR7TsGGEOMGYLDT5h",
   "collapsed_sections": [],
   "name": "作業Hong題目.ipynb",
   "provenance": []
  },
  "kernelspec": {
   "display_name": "Python 3",
   "language": "python",
   "name": "python3"
  },
  "language_info": {
   "codemirror_mode": {
    "name": "ipython",
    "version": 3
   },
   "file_extension": ".py",
   "mimetype": "text/x-python",
   "name": "python",
   "nbconvert_exporter": "python",
   "pygments_lexer": "ipython3",
   "version": "3.7.7"
  }
 },
 "nbformat": 4,
 "nbformat_minor": 1
}
