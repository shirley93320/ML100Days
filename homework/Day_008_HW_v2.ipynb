{
 "cells": [
  {
   "cell_type": "code",
   "execution_count": null,
   "metadata": {
    "id": "4klYNT34p73l"
   },
   "outputs": [],
   "source": []
  },
  {
   "cell_type": "markdown",
   "metadata": {
    "id": "9qndwAG5UAKi"
   },
   "source": [
    "作業目標<br>\n",
    "在一個陣列中放入多屬性陣列，進一步對陣列做運算<br>\n",
    "作業重點<br>\n",
    "在建立結構化陣列前需要先設定屬性，在做運算時須注意資料屬性"
   ]
  },
  {
   "cell_type": "markdown",
   "metadata": {
    "id": "48DhzHvBUB2c"
   },
   "source": [
    "題目:<br>\n",
    "name_list = ['小明','小華','小菁','小美','小張','John','Mark','Tom']<br>\n",
    "sex_list = ['boy','boy','girl','girl','boy','boy','boy','boy']<br>\n",
    "weight_list = [67.5,75.3,50.1,45.5,80.8,90.4,78.4,70.7]<br>\n",
    "rank_list = [8,1,5,4,7,6,2,3]<br>\n",
    "myopia_list = [True,True,False,False,True,True,False,False]<br>\n",
    "1. 將上列list依照['name', 'sex', 'weight', 'rank', 'myopia']順序擺入array，並且資料型態順序擺入[Unicode,Unicode,float,int,boolean]<br>\n",
    "2. 呈上題，將array中體重(weight)數據集取出算出全部平均體重\n",
    "3. 呈上題，進一步算出男生(sex欄位是boy)平均體重、女生(sex欄位是girl)平均體重\n"
   ]
  },
  {
   "cell_type": "code",
   "execution_count": 4,
   "metadata": {
    "id": "5n4rAx-9VgVr"
   },
   "outputs": [],
   "source": [
    "import numpy as np "
   ]
  },
  {
   "cell_type": "code",
   "execution_count": 5,
   "metadata": {
    "id": "Vl-wSYQdUBcw"
   },
   "outputs": [],
   "source": [
    "name_list = ['小明','小華','小菁','小美','小張','John','Mark','Tom']\n",
    "sex_list = ['boy','boy','girl','girl','boy','boy','boy','boy']\n",
    "weight_list = [67.5,75.3,50.1,45.5,80.8,90.4,78.4,70.7]\n",
    "rank_list = [8,1,5,4,7,6,2,3]\n",
    "myopia_list = [True,True,False,False,True,True,False,False]"
   ]
  },
  {
   "cell_type": "code",
   "execution_count": 6,
   "metadata": {},
   "outputs": [
    {
     "name": "stdout",
     "output_type": "stream",
     "text": [
      "[('小明', 'boy', 67.5, 8,  True) ('小華', 'boy', 75.3, 1,  True)\n",
      " ('小菁', 'girl', 50.1, 5, False) ('小美', 'girl', 45.5, 4, False)\n",
      " ('小張', 'boy', 80.8, 7,  True) ('John', 'boy', 90.4, 6,  True)\n",
      " ('Mark', 'boy', 78.4, 2, False) ('Tom', 'boy', 70.7, 3, False)]\n",
      "<class 'numpy.ndarray'>\n",
      "(8,)\n",
      "(45,)\n",
      "[('name', '<U4'), ('sex', '<U4'), ('weight', '<f8'), ('rank', '<i4'), ('myopia', '?')]\n"
     ]
    }
   ],
   "source": [
    "#1. 將上列list依照['name', 'sex', 'weight', 'rank', 'myopia']順序擺入array，並且資料型態順序擺入[Unicode,Unicode,float,int,boolean]\n",
    "dt= np.dtype({'names':('name', 'sex', 'weight', 'rank', 'myopia'),'formats':('U4','U4',float,int,bool)})\n",
    "v_array=np.zeros(8,dtype=dt)\n",
    "v_array['name']=name_list\n",
    "v_array['sex']=sex_list\n",
    "v_array['weight']=weight_list\n",
    "v_array['rank']=rank_list\n",
    "v_array['myopia']=myopia_list\n",
    "print(v_array)\n",
    "print(type(v_array))\n",
    "print(v_array.shape)\n",
    "print(v_array.strides)\n",
    "print(v_array.dtype)"
   ]
  },
  {
   "cell_type": "code",
   "execution_count": 7,
   "metadata": {
    "id": "N-xffNSVWbP1"
   },
   "outputs": [
    {
     "name": "stdout",
     "output_type": "stream",
     "text": [
      "[67.5 75.3 50.1 45.5 80.8 90.4 78.4 70.7]\n",
      "weight nanmean= 69.8375\n"
     ]
    }
   ],
   "source": [
    "#2. 呈上題，將array中體重(weight)數據集取出算出全部平均體重\n",
    "print(v_array['weight'])\n",
    "print('weight nanmean=',np.nanmean(v_array['weight']))\n"
   ]
  },
  {
   "cell_type": "code",
   "execution_count": 29,
   "metadata": {},
   "outputs": [
    {
     "data": {
      "text/plain": [
       "'1.19.2'"
      ]
     },
     "execution_count": 29,
     "metadata": {},
     "output_type": "execute_result"
    }
   ],
   "source": [
    "np.__version__\n",
    "#wherearray_like of bool, optional ,New in version 1.20.0."
   ]
  },
  {
   "cell_type": "code",
   "execution_count": 35,
   "metadata": {
    "id": "_LhLg8RiWwEm"
   },
   "outputs": [
    {
     "name": "stdout",
     "output_type": "stream",
     "text": [
      "['boy' 'boy' 'girl' 'girl' 'boy' 'boy' 'boy' 'boy']\n",
      "[ True  True False False  True  True  True  True]\n",
      "(array([0, 1, 4, 5, 6, 7], dtype=int64),) , <class 'tuple'>\n",
      "[0 1 4 5 6 7] , <class 'numpy.ndarray'>\n",
      "[67.5 75.3 80.8 90.4 78.4 70.7]\n",
      "[67.5 75.3 80.8 90.4 78.4 70.7]\n",
      "[('小明', 'boy', 67.5, 8,  True) ('小華', 'boy', 75.3, 1,  True)\n",
      " ('小張', 'boy', 80.8, 7,  True) ('John', 'boy', 90.4, 6,  True)\n",
      " ('Mark', 'boy', 78.4, 2, False) ('Tom', 'boy', 70.7, 3, False)]\n",
      "[67.5 75.3 80.8 90.4 78.4 70.7]\n",
      "boys weight nanmean= 77.18333333333332\n",
      "boys weight nanmean= 77.18333333333332\n",
      "boys weight nanmean= 77.18333333333332\n"
     ]
    }
   ],
   "source": [
    "#3. 呈上題，進一步算出男生(sex欄位是boy)平均體重\n",
    "print(v_array['sex'])\n",
    "print(v_array['sex']=='boy')\n",
    "print(np.where(v_array['sex']=='boy'),',',type(np.where(v_array['sex']=='boy')))\n",
    "print(np.where(v_array['sex']=='boy')[0],',',type(np.where(v_array['sex']=='boy')[0]))\n",
    "print(v_array[np.where(v_array['sex']=='boy')]['weight'])\n",
    "print(v_array[np.where(v_array['sex']=='boy')[0]]['weight'])\n",
    "print(v_array[v_array['sex']=='boy'])\n",
    "print(v_array[v_array['sex']=='boy']['weight'])\n",
    "print('boys weight nanmean=',np.nanmean(v_array[v_array['sex']=='boy']['weight']))\n",
    "print('boys weight nanmean=',np.nanmean(v_array['weight'][np.where(v_array['sex']=='boy')]))\n",
    "print('boys weight nanmean=',np.nanmean(v_array['weight'][np.where(v_array['sex']=='boy')[0]]))\n"
   ]
  },
  {
   "cell_type": "code",
   "execution_count": 19,
   "metadata": {
    "id": "f_J05IPxX6fg"
   },
   "outputs": [
    {
     "name": "stdout",
     "output_type": "stream",
     "text": [
      "['boy' 'boy' 'girl' 'girl' 'boy' 'boy' 'boy' 'boy']\n",
      "[False False  True  True False False False False]\n",
      "[('小菁', 'girl', 50.1, 5, False) ('小美', 'girl', 45.5, 4, False)]\n",
      "[50.1 45.5]\n",
      "boys weight nanmean= 47.8\n"
     ]
    }
   ],
   "source": [
    "#3. 呈上題，進一步算出女生(sex欄位是girl)平均體重\n",
    "print(v_array['sex'])\n",
    "print(v_array['sex']=='girl')\n",
    "print(v_array[v_array['sex']=='girl'])\n",
    "print(v_array[v_array['sex']=='girl']['weight'])\n",
    "print('girls weight nanmean=',np.nanmean(v_array[v_array['sex']=='girl']['weight']))"
   ]
  },
  {
   "cell_type": "code",
   "execution_count": null,
   "metadata": {
    "id": "eX63rZnX3d5O"
   },
   "outputs": [],
   "source": []
  }
 ],
 "metadata": {
  "colab": {
   "authorship_tag": "ABX9TyNgR7Bv7joIZkErlgUY/y+3",
   "collapsed_sections": [],
   "name": "作業_Hong題目.ipynb",
   "provenance": []
  },
  "kernelspec": {
   "display_name": "Python 3",
   "language": "python",
   "name": "python3"
  },
  "language_info": {
   "codemirror_mode": {
    "name": "ipython",
    "version": 3
   },
   "file_extension": ".py",
   "mimetype": "text/x-python",
   "name": "python",
   "nbconvert_exporter": "python",
   "pygments_lexer": "ipython3",
   "version": "3.7.7"
  }
 },
 "nbformat": 4,
 "nbformat_minor": 1
}
