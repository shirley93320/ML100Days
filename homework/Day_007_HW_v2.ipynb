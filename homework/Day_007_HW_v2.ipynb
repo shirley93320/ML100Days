{
 "cells": [
  {
   "cell_type": "markdown",
   "metadata": {
    "colab_type": "text",
    "id": "P6xk2_jLsvFF"
   },
   "source": [
    "# [作業目標]\n",
    "\n",
    "1. 請比較對一個 100 x 100 * 100 的陣列，使用不同方法對每一個元素 +1 的時間比較。\n",
    "\n",
    "2. 如何從一個陣列中，找出出現頻率最高的數值與位置？\n",
    "\n",
    "3. 如何利用 list(...) 實現 a.tolist() 的效果？試著用程式實作。\n"
   ]
  },
  {
   "cell_type": "markdown",
   "metadata": {
    "colab_type": "text",
    "id": "uXGll28asvFS"
   },
   "source": [
    "# 作業 "
   ]
  },
  {
   "cell_type": "markdown",
   "metadata": {},
   "source": [
    "### 1. 請比較對一個 1000 x 100 x 100 的陣列，使用不同方法對每一個元素 +1 的時間比較。\n",
    "\n",
    "\n"
   ]
  },
  {
   "cell_type": "code",
   "execution_count": 19,
   "metadata": {},
   "outputs": [],
   "source": [
    "# 記得先 Import 正確的套件\n",
    "import numpy as np\n",
    "\n",
    "#%timeit -n 2 -r 1 a=2;print(\"a=\",a);a=a+1;print(\"b=\",a);"
   ]
  },
  {
   "cell_type": "code",
   "execution_count": 3,
   "metadata": {
    "colab": {},
    "colab_type": "code",
    "id": "5QrYoyNWsvFS"
   },
   "outputs": [],
   "source": [
    "Z = np.random.randint(0, 10, 1000000).reshape(100, 100, 100)"
   ]
  },
  {
   "cell_type": "code",
   "execution_count": 4,
   "metadata": {},
   "outputs": [
    {
     "data": {
      "text/plain": [
       "array([[[0, 7, 1, ..., 2, 0, 7],\n",
       "        [6, 6, 3, ..., 9, 9, 7],\n",
       "        [3, 3, 5, ..., 2, 6, 5],\n",
       "        ...,\n",
       "        [3, 2, 1, ..., 6, 8, 9],\n",
       "        [0, 9, 8, ..., 2, 0, 1],\n",
       "        [5, 5, 6, ..., 6, 0, 9]],\n",
       "\n",
       "       [[5, 5, 8, ..., 3, 8, 9],\n",
       "        [2, 3, 4, ..., 9, 1, 8],\n",
       "        [5, 0, 4, ..., 9, 8, 3],\n",
       "        ...,\n",
       "        [4, 1, 3, ..., 5, 1, 0],\n",
       "        [1, 0, 1, ..., 7, 0, 4],\n",
       "        [5, 8, 7, ..., 0, 9, 4]],\n",
       "\n",
       "       [[0, 8, 9, ..., 8, 3, 3],\n",
       "        [3, 1, 8, ..., 5, 9, 0],\n",
       "        [7, 5, 8, ..., 7, 3, 0],\n",
       "        ...,\n",
       "        [9, 6, 8, ..., 3, 8, 1],\n",
       "        [3, 1, 8, ..., 3, 0, 7],\n",
       "        [9, 8, 9, ..., 8, 7, 9]],\n",
       "\n",
       "       ...,\n",
       "\n",
       "       [[1, 1, 1, ..., 6, 0, 8],\n",
       "        [2, 3, 7, ..., 4, 9, 8],\n",
       "        [9, 1, 2, ..., 6, 2, 7],\n",
       "        ...,\n",
       "        [5, 6, 2, ..., 5, 4, 0],\n",
       "        [6, 9, 5, ..., 0, 5, 2],\n",
       "        [5, 3, 5, ..., 9, 0, 0]],\n",
       "\n",
       "       [[1, 4, 2, ..., 3, 0, 1],\n",
       "        [5, 6, 2, ..., 1, 2, 6],\n",
       "        [4, 2, 5, ..., 4, 4, 6],\n",
       "        ...,\n",
       "        [7, 8, 6, ..., 4, 0, 7],\n",
       "        [7, 5, 5, ..., 4, 9, 1],\n",
       "        [4, 9, 1, ..., 5, 3, 9]],\n",
       "\n",
       "       [[9, 3, 4, ..., 6, 4, 0],\n",
       "        [4, 6, 9, ..., 5, 9, 3],\n",
       "        [1, 0, 1, ..., 0, 1, 0],\n",
       "        ...,\n",
       "        [3, 6, 3, ..., 8, 7, 1],\n",
       "        [3, 0, 0, ..., 9, 5, 5],\n",
       "        [5, 1, 6, ..., 6, 9, 7]]])"
      ]
     },
     "execution_count": 4,
     "metadata": {},
     "output_type": "execute_result"
    }
   ],
   "source": [
    "Z"
   ]
  },
  {
   "cell_type": "code",
   "execution_count": 6,
   "metadata": {},
   "outputs": [
    {
     "name": "stdout",
     "output_type": "stream",
     "text": [
      "1.52 ms ± 151 µs per loop (mean ± std. dev. of 7 runs, 10 loops each)\n"
     ]
    }
   ],
   "source": [
    "#方法1:矩陣加1\n",
    "%timeit -n 10 b=Z+1\n",
    "#print(b)"
   ]
  },
  {
   "cell_type": "code",
   "execution_count": 7,
   "metadata": {},
   "outputs": [
    {
     "name": "stdout",
     "output_type": "stream",
     "text": [
      "5.04 ms ± 367 µs per loop (mean ± std. dev. of 7 runs, 10 loops each)\n"
     ]
    }
   ],
   "source": [
    "#方法2:矩陣相加\n",
    "%timeit -n 10 a=np.ones((100, 100, 100));b=Z+a;\n",
    "#print(b)"
   ]
  },
  {
   "cell_type": "code",
   "execution_count": 8,
   "metadata": {},
   "outputs": [
    {
     "name": "stdout",
     "output_type": "stream",
     "text": [
      "308 ms ± 3.5 ms per loop (mean ± std. dev. of 7 runs, 10 loops each)\n"
     ]
    }
   ],
   "source": [
    "#方法3:flat\n",
    "%timeit -n 10 for d in Z.flat:  d=d+1;"
   ]
  },
  {
   "cell_type": "code",
   "execution_count": 9,
   "metadata": {},
   "outputs": [
    {
     "name": "stdout",
     "output_type": "stream",
     "text": [
      "399 ms ± 12.1 ms per loop (mean ± std. dev. of 7 runs, 10 loops each)\n"
     ]
    }
   ],
   "source": [
    "#方法4:for loop\n",
    "%timeit -n 10 [a2+1 for a0 in Z for a1 in a0 for a2 in a1]"
   ]
  },
  {
   "cell_type": "code",
   "execution_count": 10,
   "metadata": {},
   "outputs": [
    {
     "name": "stdout",
     "output_type": "stream",
     "text": [
      "1.01 s ± 25.3 ms per loop (mean ± std. dev. of 7 runs, 10 loops each)\n"
     ]
    }
   ],
   "source": [
    "#方法5:nditer\n",
    "%timeit -n 10 for d in np.nditer(Z): d=d+1;"
   ]
  },
  {
   "cell_type": "markdown",
   "metadata": {},
   "source": [
    "### 2. 如何從一個陣列中，找出出現頻率最高的數值與位置？\n"
   ]
  },
  {
   "cell_type": "code",
   "execution_count": 35,
   "metadata": {
    "colab": {},
    "colab_type": "code",
    "id": "e1gVI0tvsvFY"
   },
   "outputs": [
    {
     "name": "stdout",
     "output_type": "stream",
     "text": [
      "[6 2 9 4 5 4 3 9 2 4 3 8 0 3 4 1 8 2 1 7 5 2 6 0 4 8 0 1 2 9 1 7 2 5 3 8 3\n",
      " 6 7 2 3 7 6 2 4 0 0 5 3 3]\n"
     ]
    }
   ],
   "source": [
    "Z = np.random.randint(0,10,50)\n",
    "print(Z)"
   ]
  },
  {
   "cell_type": "code",
   "execution_count": 36,
   "metadata": {},
   "outputs": [
    {
     "name": "stdout",
     "output_type": "stream",
     "text": [
      "[5 4 8 8 6 4 4 4 4 3]\n",
      "8\n",
      "(array([2, 3], dtype=int64),)\n",
      "出現頻率最高的數值= 2\n",
      "  位置在= (array([ 1,  8, 17, 21, 28, 32, 39, 43], dtype=int64),)\n",
      "出現頻率最高的數值= 3\n",
      "  位置在= (array([ 6, 10, 13, 34, 36, 40, 48, 49], dtype=int64),)\n"
     ]
    }
   ],
   "source": [
    "#眾數:\n",
    "counts = np.bincount(Z)  #傳回數字累計\n",
    "print(counts) \n",
    "maxCount=np.max(counts) #傳回最大累計值\n",
    "print(maxCount)\n",
    "v_modes=np.where(counts==maxCount)\n",
    "print(v_modes)\n",
    "for v_mode in v_modes[0]:\n",
    "  print(\"出現頻率最高的數值=\",v_mode)\n",
    "  print(\"  位置在=\",np.where(Z==v_mode))"
   ]
  },
  {
   "cell_type": "markdown",
   "metadata": {},
   "source": [
    "### 3. 如何利用 list(...) 實現 a.tolist() 的效果？試著用程式實作。\n"
   ]
  },
  {
   "cell_type": "code",
   "execution_count": 40,
   "metadata": {},
   "outputs": [
    {
     "name": "stdout",
     "output_type": "stream",
     "text": [
      "[1 3 8 8 4 0]\n",
      "[1, 3, 8, 8, 4, 0]\n",
      "[1, 3, 8, 8, 4, 0]\n",
      "[[8 2 0 1]\n",
      " [1 1 7 5]\n",
      " [6 1 0 7]]\n",
      "[[8, 2, 0, 1], [1, 1, 7, 5], [6, 1, 0, 7]]\n",
      "[array([8, 2, 0, 1]), array([1, 1, 7, 5]), array([6, 1, 0, 7])]\n",
      "[[[8 6]\n",
      "  [6 3]\n",
      "  [9 8]]\n",
      "\n",
      " [[7 9]\n",
      "  [6 8]\n",
      "  [8 6]]]\n",
      "[[[8, 6], [6, 3], [9, 8]], [[7, 9], [6, 8], [8, 6]]]\n",
      "[array([[8, 6],\n",
      "       [6, 3],\n",
      "       [9, 8]]), array([[7, 9],\n",
      "       [6, 8],\n",
      "       [8, 6]])]\n"
     ]
    }
   ],
   "source": [
    "a = np.random.randint(10, size=6) \n",
    "print(a)\n",
    "print(a.tolist())\n",
    "print(list(a))\n",
    "\n",
    "\n",
    "b = np.random.randint(10, size=(3,4)) \n",
    "print(b)\n",
    "print(b.tolist())\n",
    "print(list(b))\n",
    "\n",
    "\n",
    "c = np.random.randint(10, size=(2,3,2)) \n",
    "print(c)\n",
    "print(c.tolist())\n",
    "print(list(c))\n"
   ]
  },
  {
   "cell_type": "code",
   "execution_count": 74,
   "metadata": {},
   "outputs": [
    {
     "name": "stdout",
     "output_type": "stream",
     "text": [
      "10\n",
      "a.tolist()= [7, 8, 2, 5, 2, 9]\n",
      "[7, 8, 2, 5, 2, 9]\n",
      "b.tolist()= [[6, 7, 4, 1], [1, 4, 7, 0], [1, 7, 2, 3]]\n",
      "[[6, 7, 4, 1], [1, 4, 7, 0], [1, 7, 2, 3]]\n",
      "c.tolist()= [[[7, 7], [2, 5], [6, 6]], [[4, 1], [4, 4], [5, 7]]]\n",
      "[[[7, 7], [2, 5], [6, 6]], [[4, 1], [4, 4], [5, 7]]]\n"
     ]
    }
   ],
   "source": [
    "def funList(var):\n",
    "  #print(type(var))\n",
    "  if type(var) == np.ndarray:\n",
    "    a1 = var.shape  \n",
    "    #print(a1,\",\",len(a1))\n",
    "    if len(a1) == 1:\n",
    "      #print(\"v1\",list(var))\n",
    "      return list(var)\n",
    "    else:\n",
    "      #print(\"v2\",list(var))\n",
    "      a2 = list(var)\n",
    "      a4 = [funList(a3) for a3 in a2]\n",
    "      #print(a4)\n",
    "      return a4\n",
    "  else:\n",
    "    return var\n",
    "\n",
    "\n",
    "print(funList(10))\n",
    "print(\"a.tolist()=\",a.tolist())\n",
    "print(funList(a))\n",
    "print(\"b.tolist()=\",b.tolist())\n",
    "print(funList(b))\n",
    "print(\"c.tolist()=\",c.tolist())\n",
    "print(funList(c))\n",
    "  \n",
    "    \n",
    "\n"
   ]
  },
  {
   "cell_type": "code",
   "execution_count": null,
   "metadata": {},
   "outputs": [],
   "source": []
  }
 ],
 "metadata": {
  "colab": {
   "name": "Day_023_HW.ipynb",
   "provenance": []
  },
  "kernelspec": {
   "display_name": "Python 3",
   "language": "python",
   "name": "python3"
  },
  "language_info": {
   "codemirror_mode": {
    "name": "ipython",
    "version": 3
   },
   "file_extension": ".py",
   "mimetype": "text/x-python",
   "name": "python",
   "nbconvert_exporter": "python",
   "pygments_lexer": "ipython3",
   "version": "3.7.7"
  }
 },
 "nbformat": 4,
 "nbformat_minor": 1
}
